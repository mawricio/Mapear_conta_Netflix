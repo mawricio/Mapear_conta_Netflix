{
 "cells": [
  {
   "cell_type": "code",
   "execution_count": 4,
   "metadata": {},
   "outputs": [],
   "source": [
    "# https://blog.qoda.com.br/data-science-em-sua-conta-netflix/\n",
    "# https://nbviewer.jupyter.org/gist/qodatecnologia/8a4e655b3da8ec285228f8144f80c069\n",
    "\n",
    "import pandas as pd\n",
    "df = pd.read_csv('C:/Users/mawri/Downloads/ViewingActivity-sample.csv')\n"
   ]
  },
  {
   "cell_type": "code",
   "execution_count": 7,
   "metadata": {},
   "outputs": [
    {
     "data": {
      "text/plain": [
       "(200, 3)"
      ]
     },
     "execution_count": 7,
     "metadata": {},
     "output_type": "execute_result"
    }
   ],
   "source": [
    "df.shape"
   ]
  },
  {
   "cell_type": "code",
   "execution_count": 8,
   "metadata": {},
   "outputs": [
    {
     "data": {
      "text/html": [
       "<div>\n",
       "<style scoped>\n",
       "    .dataframe tbody tr th:only-of-type {\n",
       "        vertical-align: middle;\n",
       "    }\n",
       "\n",
       "    .dataframe tbody tr th {\n",
       "        vertical-align: top;\n",
       "    }\n",
       "\n",
       "    .dataframe thead th {\n",
       "        text-align: right;\n",
       "    }\n",
       "</style>\n",
       "<table border=\"1\" class=\"dataframe\">\n",
       "  <thead>\n",
       "    <tr style=\"text-align: right;\">\n",
       "      <th></th>\n",
       "      <th>Start Time</th>\n",
       "      <th>Duration</th>\n",
       "      <th>Title</th>\n",
       "    </tr>\n",
       "  </thead>\n",
       "  <tbody>\n",
       "    <tr>\n",
       "      <th>0</th>\n",
       "      <td>2013-03-20 5:17:53</td>\n",
       "      <td>0:00:05</td>\n",
       "      <td>Star Trek: Deep Space Nine: Season 5: Empok No...</td>\n",
       "    </tr>\n",
       "    <tr>\n",
       "      <th>1</th>\n",
       "      <td>2013-03-20 4:27:45</td>\n",
       "      <td>0:44:31</td>\n",
       "      <td>Star Trek: Deep Space Nine: Season 5: Blaze of...</td>\n",
       "    </tr>\n",
       "    <tr>\n",
       "      <th>2</th>\n",
       "      <td>2013-03-20 4:05:21</td>\n",
       "      <td>0:22:06</td>\n",
       "      <td>Star Trek: Deep Space Nine: Season 5: Children...</td>\n",
       "    </tr>\n",
       "    <tr>\n",
       "      <th>3</th>\n",
       "      <td>2013-03-20 0:20:03</td>\n",
       "      <td>0:48:14</td>\n",
       "      <td>The Invisible War</td>\n",
       "    </tr>\n",
       "    <tr>\n",
       "      <th>4</th>\n",
       "      <td>2013-03-20 0:10:31</td>\n",
       "      <td>0:04:51</td>\n",
       "      <td>The Invisible War</td>\n",
       "    </tr>\n",
       "  </tbody>\n",
       "</table>\n",
       "</div>"
      ],
      "text/plain": [
       "           Start Time Duration  \\\n",
       "0  2013-03-20 5:17:53  0:00:05   \n",
       "1  2013-03-20 4:27:45  0:44:31   \n",
       "2  2013-03-20 4:05:21  0:22:06   \n",
       "3  2013-03-20 0:20:03  0:48:14   \n",
       "4  2013-03-20 0:10:31  0:04:51   \n",
       "\n",
       "                                               Title  \n",
       "0  Star Trek: Deep Space Nine: Season 5: Empok No...  \n",
       "1  Star Trek: Deep Space Nine: Season 5: Blaze of...  \n",
       "2  Star Trek: Deep Space Nine: Season 5: Children...  \n",
       "3                                  The Invisible War  \n",
       "4                                  The Invisible War  "
      ]
     },
     "execution_count": 8,
     "metadata": {},
     "output_type": "execute_result"
    }
   ],
   "source": [
    "df.head()"
   ]
  },
  {
   "cell_type": "code",
   "execution_count": 10,
   "metadata": {},
   "outputs": [
    {
     "data": {
      "text/html": [
       "<div>\n",
       "<style scoped>\n",
       "    .dataframe tbody tr th:only-of-type {\n",
       "        vertical-align: middle;\n",
       "    }\n",
       "\n",
       "    .dataframe tbody tr th {\n",
       "        vertical-align: top;\n",
       "    }\n",
       "\n",
       "    .dataframe thead th {\n",
       "        text-align: right;\n",
       "    }\n",
       "</style>\n",
       "<table border=\"1\" class=\"dataframe\">\n",
       "  <thead>\n",
       "    <tr style=\"text-align: right;\">\n",
       "      <th></th>\n",
       "      <th>Start Time</th>\n",
       "      <th>Duration</th>\n",
       "      <th>Title</th>\n",
       "    </tr>\n",
       "  </thead>\n",
       "  <tbody>\n",
       "    <tr>\n",
       "      <th>0</th>\n",
       "      <td>2013-03-20 5:17:53</td>\n",
       "      <td>0:00:05</td>\n",
       "      <td>Star Trek: Deep Space Nine: Season 5: Empok No...</td>\n",
       "    </tr>\n",
       "    <tr>\n",
       "      <th>1</th>\n",
       "      <td>2013-03-20 4:27:45</td>\n",
       "      <td>0:44:31</td>\n",
       "      <td>Star Trek: Deep Space Nine: Season 5: Blaze of...</td>\n",
       "    </tr>\n",
       "    <tr>\n",
       "      <th>2</th>\n",
       "      <td>2013-03-20 4:05:21</td>\n",
       "      <td>0:22:06</td>\n",
       "      <td>Star Trek: Deep Space Nine: Season 5: Children...</td>\n",
       "    </tr>\n",
       "    <tr>\n",
       "      <th>3</th>\n",
       "      <td>2013-03-20 0:20:03</td>\n",
       "      <td>0:48:14</td>\n",
       "      <td>The Invisible War</td>\n",
       "    </tr>\n",
       "    <tr>\n",
       "      <th>4</th>\n",
       "      <td>2013-03-20 0:10:31</td>\n",
       "      <td>0:04:51</td>\n",
       "      <td>The Invisible War</td>\n",
       "    </tr>\n",
       "  </tbody>\n",
       "</table>\n",
       "</div>"
      ],
      "text/plain": [
       "           Start Time Duration  \\\n",
       "0  2013-03-20 5:17:53  0:00:05   \n",
       "1  2013-03-20 4:27:45  0:44:31   \n",
       "2  2013-03-20 4:05:21  0:22:06   \n",
       "3  2013-03-20 0:20:03  0:48:14   \n",
       "4  2013-03-20 0:10:31  0:04:51   \n",
       "\n",
       "                                               Title  \n",
       "0  Star Trek: Deep Space Nine: Season 5: Empok No...  \n",
       "1  Star Trek: Deep Space Nine: Season 5: Blaze of...  \n",
       "2  Star Trek: Deep Space Nine: Season 5: Children...  \n",
       "3                                  The Invisible War  \n",
       "4                                  The Invisible War  "
      ]
     },
     "execution_count": 10,
     "metadata": {},
     "output_type": "execute_result"
    }
   ],
   "source": [
    "df.head()"
   ]
  },
  {
   "cell_type": "code",
   "execution_count": 12,
   "metadata": {},
   "outputs": [
    {
     "data": {
      "text/plain": [
       "Start Time    object\n",
       "Duration      object\n",
       "Title         object\n",
       "dtype: object"
      ]
     },
     "execution_count": 12,
     "metadata": {},
     "output_type": "execute_result"
    }
   ],
   "source": [
    "df.dtypes"
   ]
  },
  {
   "cell_type": "code",
   "execution_count": 13,
   "metadata": {},
   "outputs": [],
   "source": [
    "df['Start Time'] = pd.to_datetime(df['Start Time'], utc=True)"
   ]
  },
  {
   "cell_type": "code",
   "execution_count": 14,
   "metadata": {},
   "outputs": [
    {
     "data": {
      "text/plain": [
       "Start Time    datetime64[ns, UTC]\n",
       "Duration                   object\n",
       "Title                      object\n",
       "dtype: object"
      ]
     },
     "execution_count": 14,
     "metadata": {},
     "output_type": "execute_result"
    }
   ],
   "source": [
    "df.dtypes"
   ]
  },
  {
   "cell_type": "code",
   "execution_count": 15,
   "metadata": {},
   "outputs": [],
   "source": [
    "# muda a coluna Start Time para o índice do dataframe\n",
    "df = df.set_index('Start Time')"
   ]
  },
  {
   "cell_type": "code",
   "execution_count": 20,
   "metadata": {},
   "outputs": [
    {
     "ename": "AttributeError",
     "evalue": "'RangeIndex' object has no attribute 'tz_convert'",
     "output_type": "error",
     "traceback": [
      "\u001b[1;31m---------------------------------------------------------------------------\u001b[0m",
      "\u001b[1;31mAttributeError\u001b[0m                            Traceback (most recent call last)",
      "\u001b[1;32m<ipython-input-20-ea97691a5296>\u001b[0m in \u001b[0;36m<module>\u001b[1;34m\u001b[0m\n\u001b[0;32m      1\u001b[0m \u001b[1;31m# converte UTC para America/Sao_Paulo\u001b[0m\u001b[1;33m\u001b[0m\u001b[1;33m\u001b[0m\u001b[1;33m\u001b[0m\u001b[0m\n\u001b[1;32m----> 2\u001b[1;33m \u001b[0mdf\u001b[0m\u001b[1;33m.\u001b[0m\u001b[0mindex\u001b[0m \u001b[1;33m=\u001b[0m \u001b[0mdf\u001b[0m\u001b[1;33m.\u001b[0m\u001b[0mindex\u001b[0m\u001b[1;33m.\u001b[0m\u001b[0mtz_convert\u001b[0m\u001b[1;33m(\u001b[0m\u001b[1;34m'America/Sao_Paulo'\u001b[0m\u001b[1;33m)\u001b[0m\u001b[1;33m\u001b[0m\u001b[1;33m\u001b[0m\u001b[0m\n\u001b[0m",
      "\u001b[1;31mAttributeError\u001b[0m: 'RangeIndex' object has no attribute 'tz_convert'"
     ]
    }
   ],
   "source": [
    "# converte UTC para America/Sao_Paulo\n",
    "df.index = df.index.tz_convert('America/Sao_Paulo')"
   ]
  },
  {
   "cell_type": "code",
   "execution_count": 21,
   "metadata": {},
   "outputs": [],
   "source": [
    "# Resetamos o index e Startime volta a ser uma simples colina\n",
    "df = df.reset_index()"
   ]
  },
  {
   "cell_type": "code",
   "execution_count": 22,
   "metadata": {},
   "outputs": [
    {
     "data": {
      "text/html": [
       "<div>\n",
       "<style scoped>\n",
       "    .dataframe tbody tr th:only-of-type {\n",
       "        vertical-align: middle;\n",
       "    }\n",
       "\n",
       "    .dataframe tbody tr th {\n",
       "        vertical-align: top;\n",
       "    }\n",
       "\n",
       "    .dataframe thead th {\n",
       "        text-align: right;\n",
       "    }\n",
       "</style>\n",
       "<table border=\"1\" class=\"dataframe\">\n",
       "  <thead>\n",
       "    <tr style=\"text-align: right;\">\n",
       "      <th></th>\n",
       "      <th>index</th>\n",
       "      <th>Start Time</th>\n",
       "      <th>Duration</th>\n",
       "      <th>Title</th>\n",
       "    </tr>\n",
       "  </thead>\n",
       "  <tbody>\n",
       "    <tr>\n",
       "      <th>0</th>\n",
       "      <td>0</td>\n",
       "      <td>2013-03-20 02:17:53-03:00</td>\n",
       "      <td>0:00:05</td>\n",
       "      <td>Star Trek: Deep Space Nine: Season 5: Empok No...</td>\n",
       "    </tr>\n",
       "    <tr>\n",
       "      <th>1</th>\n",
       "      <td>1</td>\n",
       "      <td>2013-03-20 01:27:45-03:00</td>\n",
       "      <td>0:44:31</td>\n",
       "      <td>Star Trek: Deep Space Nine: Season 5: Blaze of...</td>\n",
       "    </tr>\n",
       "    <tr>\n",
       "      <th>2</th>\n",
       "      <td>2</td>\n",
       "      <td>2013-03-20 01:05:21-03:00</td>\n",
       "      <td>0:22:06</td>\n",
       "      <td>Star Trek: Deep Space Nine: Season 5: Children...</td>\n",
       "    </tr>\n",
       "    <tr>\n",
       "      <th>3</th>\n",
       "      <td>3</td>\n",
       "      <td>2013-03-19 21:20:03-03:00</td>\n",
       "      <td>0:48:14</td>\n",
       "      <td>The Invisible War</td>\n",
       "    </tr>\n",
       "    <tr>\n",
       "      <th>4</th>\n",
       "      <td>4</td>\n",
       "      <td>2013-03-19 21:10:31-03:00</td>\n",
       "      <td>0:04:51</td>\n",
       "      <td>The Invisible War</td>\n",
       "    </tr>\n",
       "  </tbody>\n",
       "</table>\n",
       "</div>"
      ],
      "text/plain": [
       "   index                Start Time Duration  \\\n",
       "0      0 2013-03-20 02:17:53-03:00  0:00:05   \n",
       "1      1 2013-03-20 01:27:45-03:00  0:44:31   \n",
       "2      2 2013-03-20 01:05:21-03:00  0:22:06   \n",
       "3      3 2013-03-19 21:20:03-03:00  0:48:14   \n",
       "4      4 2013-03-19 21:10:31-03:00  0:04:51   \n",
       "\n",
       "                                               Title  \n",
       "0  Star Trek: Deep Space Nine: Season 5: Empok No...  \n",
       "1  Star Trek: Deep Space Nine: Season 5: Blaze of...  \n",
       "2  Star Trek: Deep Space Nine: Season 5: Children...  \n",
       "3                                  The Invisible War  \n",
       "4                                  The Invisible War  "
      ]
     },
     "execution_count": 22,
     "metadata": {},
     "output_type": "execute_result"
    }
   ],
   "source": [
    "# analisar se está tudo ok com df.head\n",
    "df.head()"
   ]
  },
  {
   "cell_type": "code",
   "execution_count": 23,
   "metadata": {},
   "outputs": [
    {
     "data": {
      "text/plain": [
       "index                                     int64\n",
       "Start Time    datetime64[ns, America/Sao_Paulo]\n",
       "Duration                        timedelta64[ns]\n",
       "Title                                    object\n",
       "dtype: object"
      ]
     },
     "execution_count": 23,
     "metadata": {},
     "output_type": "execute_result"
    }
   ],
   "source": [
    "df['Duration'] = pd.to_timedelta(df['Duration'])\n",
    "df.dtypes"
   ]
  },
  {
   "cell_type": "code",
   "execution_count": 24,
   "metadata": {},
   "outputs": [
    {
     "data": {
      "text/html": [
       "<div>\n",
       "<style scoped>\n",
       "    .dataframe tbody tr th:only-of-type {\n",
       "        vertical-align: middle;\n",
       "    }\n",
       "\n",
       "    .dataframe tbody tr th {\n",
       "        vertical-align: top;\n",
       "    }\n",
       "\n",
       "    .dataframe thead th {\n",
       "        text-align: right;\n",
       "    }\n",
       "</style>\n",
       "<table border=\"1\" class=\"dataframe\">\n",
       "  <thead>\n",
       "    <tr style=\"text-align: right;\">\n",
       "      <th></th>\n",
       "      <th>index</th>\n",
       "      <th>Start Time</th>\n",
       "      <th>Duration</th>\n",
       "      <th>Title</th>\n",
       "    </tr>\n",
       "  </thead>\n",
       "  <tbody>\n",
       "    <tr>\n",
       "      <th>114</th>\n",
       "      <td>114</td>\n",
       "      <td>2013-03-11 02:50:07-03:00</td>\n",
       "      <td>00:18:16</td>\n",
       "      <td>The Office (U.S.): Season 2: The Fire (Episode 4)</td>\n",
       "    </tr>\n",
       "    <tr>\n",
       "      <th>68</th>\n",
       "      <td>68</td>\n",
       "      <td>2013-03-13 19:56:08-03:00</td>\n",
       "      <td>00:21:06</td>\n",
       "      <td>The Office (U.S.): Season 3: Traveling Salesme...</td>\n",
       "    </tr>\n",
       "    <tr>\n",
       "      <th>144</th>\n",
       "      <td>144</td>\n",
       "      <td>2013-03-09 05:25:52-03:00</td>\n",
       "      <td>00:09:24</td>\n",
       "      <td>The Office (U.S.): Season 7: China (Episode 10)</td>\n",
       "    </tr>\n",
       "    <tr>\n",
       "      <th>148</th>\n",
       "      <td>148</td>\n",
       "      <td>2013-03-09 03:44:33-03:00</td>\n",
       "      <td>00:21:45</td>\n",
       "      <td>The Office (U.S.): Season 7: Costume Contest (...</td>\n",
       "    </tr>\n",
       "    <tr>\n",
       "      <th>72</th>\n",
       "      <td>72</td>\n",
       "      <td>2013-03-13 14:30:04-03:00</td>\n",
       "      <td>00:11:05</td>\n",
       "      <td>The Office (U.S.): Season 3: A Benihana Christ...</td>\n",
       "    </tr>\n",
       "    <tr>\n",
       "      <th>96</th>\n",
       "      <td>96</td>\n",
       "      <td>2013-03-12 00:28:56-03:00</td>\n",
       "      <td>00:21:06</td>\n",
       "      <td>The Office (U.S.): Season 2: Boys and Girls (E...</td>\n",
       "    </tr>\n",
       "    <tr>\n",
       "      <th>123</th>\n",
       "      <td>123</td>\n",
       "      <td>2013-03-10 18:46:45-03:00</td>\n",
       "      <td>00:21:32</td>\n",
       "      <td>The Office (U.S.): Season 1: Health Care (Epis...</td>\n",
       "    </tr>\n",
       "    <tr>\n",
       "      <th>84</th>\n",
       "      <td>84</td>\n",
       "      <td>2013-03-12 18:18:15-03:00</td>\n",
       "      <td>00:10:31</td>\n",
       "      <td>The Office (U.S.): Season 3: The Coup (Episode 3)</td>\n",
       "    </tr>\n",
       "    <tr>\n",
       "      <th>74</th>\n",
       "      <td>74</td>\n",
       "      <td>2013-03-13 02:55:54-03:00</td>\n",
       "      <td>00:21:08</td>\n",
       "      <td>The Office (U.S.): Season 3: The Convict (Epis...</td>\n",
       "    </tr>\n",
       "    <tr>\n",
       "      <th>14</th>\n",
       "      <td>14</td>\n",
       "      <td>2013-03-18 17:29:22-03:00</td>\n",
       "      <td>00:20:15</td>\n",
       "      <td>The Office (U.S.): Season 5: Business Trip (Ep...</td>\n",
       "    </tr>\n",
       "    <tr>\n",
       "      <th>106</th>\n",
       "      <td>106</td>\n",
       "      <td>2013-03-11 19:42:56-03:00</td>\n",
       "      <td>00:21:45</td>\n",
       "      <td>The Office (U.S.): Season 2: Email Surveillanc...</td>\n",
       "    </tr>\n",
       "    <tr>\n",
       "      <th>77</th>\n",
       "      <td>77</td>\n",
       "      <td>2013-03-13 01:13:19-03:00</td>\n",
       "      <td>00:20:55</td>\n",
       "      <td>The Office (U.S.): Season 3: Diwali (Episode 6)</td>\n",
       "    </tr>\n",
       "    <tr>\n",
       "      <th>28</th>\n",
       "      <td>28</td>\n",
       "      <td>2013-03-16 17:14:27-03:00</td>\n",
       "      <td>00:04:59</td>\n",
       "      <td>The Office (U.S.): Season 4: Night Out (Episod...</td>\n",
       "    </tr>\n",
       "    <tr>\n",
       "      <th>88</th>\n",
       "      <td>88</td>\n",
       "      <td>2013-03-12 11:52:07-03:00</td>\n",
       "      <td>00:27:52</td>\n",
       "      <td>The Office (U.S.): Season 2: Casino Night (Epi...</td>\n",
       "    </tr>\n",
       "    <tr>\n",
       "      <th>73</th>\n",
       "      <td>73</td>\n",
       "      <td>2013-03-13 14:05:56-03:00</td>\n",
       "      <td>00:02:00</td>\n",
       "      <td>The Office (U.S.): Season 3: A Benihana Christ...</td>\n",
       "    </tr>\n",
       "    <tr>\n",
       "      <th>136</th>\n",
       "      <td>136</td>\n",
       "      <td>2013-03-09 20:03:25-03:00</td>\n",
       "      <td>00:21:45</td>\n",
       "      <td>The Office (U.S.): Season 7: PDA (Episode 16)</td>\n",
       "    </tr>\n",
       "    <tr>\n",
       "      <th>124</th>\n",
       "      <td>124</td>\n",
       "      <td>2013-03-10 18:25:01-03:00</td>\n",
       "      <td>00:21:33</td>\n",
       "      <td>The Office (U.S.): Season 1: Diversity Day (Ep...</td>\n",
       "    </tr>\n",
       "    <tr>\n",
       "      <th>91</th>\n",
       "      <td>91</td>\n",
       "      <td>2013-03-12 02:53:10-03:00</td>\n",
       "      <td>00:20:08</td>\n",
       "      <td>The Office (U.S.): Season 2: Drug Testing (Epi...</td>\n",
       "    </tr>\n",
       "    <tr>\n",
       "      <th>121</th>\n",
       "      <td>121</td>\n",
       "      <td>2013-03-10 19:30:20-03:00</td>\n",
       "      <td>00:03:20</td>\n",
       "      <td>The Office (U.S.): Season 1: Basketball (Episo...</td>\n",
       "    </tr>\n",
       "    <tr>\n",
       "      <th>137</th>\n",
       "      <td>137</td>\n",
       "      <td>2013-03-09 19:38:53-03:00</td>\n",
       "      <td>00:21:31</td>\n",
       "      <td>The Office (U.S.): Season 7: The Search (Episo...</td>\n",
       "    </tr>\n",
       "  </tbody>\n",
       "</table>\n",
       "</div>"
      ],
      "text/plain": [
       "     index                Start Time Duration  \\\n",
       "114    114 2013-03-11 02:50:07-03:00 00:18:16   \n",
       "68      68 2013-03-13 19:56:08-03:00 00:21:06   \n",
       "144    144 2013-03-09 05:25:52-03:00 00:09:24   \n",
       "148    148 2013-03-09 03:44:33-03:00 00:21:45   \n",
       "72      72 2013-03-13 14:30:04-03:00 00:11:05   \n",
       "96      96 2013-03-12 00:28:56-03:00 00:21:06   \n",
       "123    123 2013-03-10 18:46:45-03:00 00:21:32   \n",
       "84      84 2013-03-12 18:18:15-03:00 00:10:31   \n",
       "74      74 2013-03-13 02:55:54-03:00 00:21:08   \n",
       "14      14 2013-03-18 17:29:22-03:00 00:20:15   \n",
       "106    106 2013-03-11 19:42:56-03:00 00:21:45   \n",
       "77      77 2013-03-13 01:13:19-03:00 00:20:55   \n",
       "28      28 2013-03-16 17:14:27-03:00 00:04:59   \n",
       "88      88 2013-03-12 11:52:07-03:00 00:27:52   \n",
       "73      73 2013-03-13 14:05:56-03:00 00:02:00   \n",
       "136    136 2013-03-09 20:03:25-03:00 00:21:45   \n",
       "124    124 2013-03-10 18:25:01-03:00 00:21:33   \n",
       "91      91 2013-03-12 02:53:10-03:00 00:20:08   \n",
       "121    121 2013-03-10 19:30:20-03:00 00:03:20   \n",
       "137    137 2013-03-09 19:38:53-03:00 00:21:31   \n",
       "\n",
       "                                                 Title  \n",
       "114  The Office (U.S.): Season 2: The Fire (Episode 4)  \n",
       "68   The Office (U.S.): Season 3: Traveling Salesme...  \n",
       "144    The Office (U.S.): Season 7: China (Episode 10)  \n",
       "148  The Office (U.S.): Season 7: Costume Contest (...  \n",
       "72   The Office (U.S.): Season 3: A Benihana Christ...  \n",
       "96   The Office (U.S.): Season 2: Boys and Girls (E...  \n",
       "123  The Office (U.S.): Season 1: Health Care (Epis...  \n",
       "84   The Office (U.S.): Season 3: The Coup (Episode 3)  \n",
       "74   The Office (U.S.): Season 3: The Convict (Epis...  \n",
       "14   The Office (U.S.): Season 5: Business Trip (Ep...  \n",
       "106  The Office (U.S.): Season 2: Email Surveillanc...  \n",
       "77     The Office (U.S.): Season 3: Diwali (Episode 6)  \n",
       "28   The Office (U.S.): Season 4: Night Out (Episod...  \n",
       "88   The Office (U.S.): Season 2: Casino Night (Epi...  \n",
       "73   The Office (U.S.): Season 3: A Benihana Christ...  \n",
       "136      The Office (U.S.): Season 7: PDA (Episode 16)  \n",
       "124  The Office (U.S.): Season 1: Diversity Day (Ep...  \n",
       "91   The Office (U.S.): Season 2: Drug Testing (Epi...  \n",
       "121  The Office (U.S.): Season 1: Basketball (Episo...  \n",
       "137  The Office (U.S.): Season 7: The Search (Episo...  "
      ]
     },
     "execution_count": 24,
     "metadata": {},
     "output_type": "execute_result"
    }
   ],
   "source": [
    "# Novo dataframe apenas com aparições de THE OFFICE\n",
    "office = df.loc[df['Title'].str.contains('The Office (U.S.)', na=False, regex=False)]\n",
    "office.sample(20)"
   ]
  },
  {
   "cell_type": "code",
   "execution_count": 25,
   "metadata": {},
   "outputs": [
    {
     "data": {
      "text/plain": [
       "(137, 4)"
      ]
     },
     "execution_count": 25,
     "metadata": {},
     "output_type": "execute_result"
    }
   ],
   "source": [
    "office.shape"
   ]
  },
  {
   "cell_type": "code",
   "execution_count": 26,
   "metadata": {},
   "outputs": [],
   "source": [
    "office = office[(office['Duration'] > '0 days 00:01:00')]"
   ]
  },
  {
   "cell_type": "code",
   "execution_count": 27,
   "metadata": {},
   "outputs": [
    {
     "data": {
      "text/plain": [
       "(130, 4)"
      ]
     },
     "execution_count": 27,
     "metadata": {},
     "output_type": "execute_result"
    }
   ],
   "source": [
    "office.shape"
   ]
  },
  {
   "cell_type": "code",
   "execution_count": 28,
   "metadata": {},
   "outputs": [
    {
     "data": {
      "text/html": [
       "<div>\n",
       "<style scoped>\n",
       "    .dataframe tbody tr th:only-of-type {\n",
       "        vertical-align: middle;\n",
       "    }\n",
       "\n",
       "    .dataframe tbody tr th {\n",
       "        vertical-align: top;\n",
       "    }\n",
       "\n",
       "    .dataframe thead th {\n",
       "        text-align: right;\n",
       "    }\n",
       "</style>\n",
       "<table border=\"1\" class=\"dataframe\">\n",
       "  <thead>\n",
       "    <tr style=\"text-align: right;\">\n",
       "      <th></th>\n",
       "      <th>index</th>\n",
       "      <th>Start Time</th>\n",
       "      <th>Duration</th>\n",
       "      <th>Title</th>\n",
       "    </tr>\n",
       "  </thead>\n",
       "  <tbody>\n",
       "    <tr>\n",
       "      <th>146</th>\n",
       "      <td>146</td>\n",
       "      <td>2013-03-09 04:20:39-03:00</td>\n",
       "      <td>00:21:31</td>\n",
       "      <td>The Office (U.S.): Season 7: Viewing Party (Ep...</td>\n",
       "    </tr>\n",
       "  </tbody>\n",
       "</table>\n",
       "</div>"
      ],
      "text/plain": [
       "     index                Start Time Duration  \\\n",
       "146    146 2013-03-09 04:20:39-03:00 00:21:31   \n",
       "\n",
       "                                                 Title  \n",
       "146  The Office (U.S.): Season 7: Viewing Party (Ep...  "
      ]
     },
     "execution_count": 28,
     "metadata": {},
     "output_type": "execute_result"
    }
   ],
   "source": [
    "office.sample()"
   ]
  },
  {
   "cell_type": "code",
   "execution_count": 29,
   "metadata": {},
   "outputs": [
    {
     "data": {
      "text/html": [
       "<div>\n",
       "<style scoped>\n",
       "    .dataframe tbody tr th:only-of-type {\n",
       "        vertical-align: middle;\n",
       "    }\n",
       "\n",
       "    .dataframe tbody tr th {\n",
       "        vertical-align: top;\n",
       "    }\n",
       "\n",
       "    .dataframe thead th {\n",
       "        text-align: right;\n",
       "    }\n",
       "</style>\n",
       "<table border=\"1\" class=\"dataframe\">\n",
       "  <thead>\n",
       "    <tr style=\"text-align: right;\">\n",
       "      <th></th>\n",
       "      <th>index</th>\n",
       "      <th>Start Time</th>\n",
       "      <th>Duration</th>\n",
       "      <th>Title</th>\n",
       "    </tr>\n",
       "  </thead>\n",
       "  <tbody>\n",
       "    <tr>\n",
       "      <th>10</th>\n",
       "      <td>10</td>\n",
       "      <td>2013-03-18 20:04:22-03:00</td>\n",
       "      <td>00:21:07</td>\n",
       "      <td>The Office (U.S.): Season 5: Moroccan Christma...</td>\n",
       "    </tr>\n",
       "    <tr>\n",
       "      <th>11</th>\n",
       "      <td>11</td>\n",
       "      <td>2013-03-18 19:42:50-03:00</td>\n",
       "      <td>00:21:30</td>\n",
       "      <td>The Office (U.S.): Season 5: The Surplus (Epis...</td>\n",
       "    </tr>\n",
       "    <tr>\n",
       "      <th>12</th>\n",
       "      <td>12</td>\n",
       "      <td>2013-03-18 19:21:52-03:00</td>\n",
       "      <td>00:20:55</td>\n",
       "      <td>The Office (U.S.): Season 5: Frame Toby (Episo...</td>\n",
       "    </tr>\n",
       "    <tr>\n",
       "      <th>14</th>\n",
       "      <td>14</td>\n",
       "      <td>2013-03-18 17:29:22-03:00</td>\n",
       "      <td>00:20:15</td>\n",
       "      <td>The Office (U.S.): Season 5: Business Trip (Ep...</td>\n",
       "    </tr>\n",
       "    <tr>\n",
       "      <th>15</th>\n",
       "      <td>15</td>\n",
       "      <td>2013-03-18 17:07:57-03:00</td>\n",
       "      <td>00:21:21</td>\n",
       "      <td>The Office (U.S.): Season 5: Customer Survey (...</td>\n",
       "    </tr>\n",
       "  </tbody>\n",
       "</table>\n",
       "</div>"
      ],
      "text/plain": [
       "    index                Start Time Duration  \\\n",
       "10     10 2013-03-18 20:04:22-03:00 00:21:07   \n",
       "11     11 2013-03-18 19:42:50-03:00 00:21:30   \n",
       "12     12 2013-03-18 19:21:52-03:00 00:20:55   \n",
       "14     14 2013-03-18 17:29:22-03:00 00:20:15   \n",
       "15     15 2013-03-18 17:07:57-03:00 00:21:21   \n",
       "\n",
       "                                                Title  \n",
       "10  The Office (U.S.): Season 5: Moroccan Christma...  \n",
       "11  The Office (U.S.): Season 5: The Surplus (Epis...  \n",
       "12  The Office (U.S.): Season 5: Frame Toby (Episo...  \n",
       "14  The Office (U.S.): Season 5: Business Trip (Ep...  \n",
       "15  The Office (U.S.): Season 5: Customer Survey (...  "
      ]
     },
     "execution_count": 29,
     "metadata": {},
     "output_type": "execute_result"
    }
   ],
   "source": [
    "office.head()"
   ]
  },
  {
   "cell_type": "code",
   "execution_count": 30,
   "metadata": {},
   "outputs": [
    {
     "data": {
      "text/plain": [
       "Timedelta('1 days 14:57:28')"
      ]
     },
     "execution_count": 30,
     "metadata": {},
     "output_type": "execute_result"
    }
   ],
   "source": [
    "office['Duration'].sum()"
   ]
  },
  {
   "cell_type": "code",
   "execution_count": 31,
   "metadata": {},
   "outputs": [],
   "source": [
    "office['weekday'] = office['Start Time'].dt.weekday\n"
   ]
  },
  {
   "cell_type": "code",
   "execution_count": 32,
   "metadata": {},
   "outputs": [],
   "source": [
    "office['hour'] = office['Start Time'].dt.hour\n"
   ]
  },
  {
   "cell_type": "code",
   "execution_count": 33,
   "metadata": {},
   "outputs": [
    {
     "data": {
      "text/html": [
       "<div>\n",
       "<style scoped>\n",
       "    .dataframe tbody tr th:only-of-type {\n",
       "        vertical-align: middle;\n",
       "    }\n",
       "\n",
       "    .dataframe tbody tr th {\n",
       "        vertical-align: top;\n",
       "    }\n",
       "\n",
       "    .dataframe thead th {\n",
       "        text-align: right;\n",
       "    }\n",
       "</style>\n",
       "<table border=\"1\" class=\"dataframe\">\n",
       "  <thead>\n",
       "    <tr style=\"text-align: right;\">\n",
       "      <th></th>\n",
       "      <th>index</th>\n",
       "      <th>Start Time</th>\n",
       "      <th>Duration</th>\n",
       "      <th>Title</th>\n",
       "      <th>weekday</th>\n",
       "      <th>hour</th>\n",
       "    </tr>\n",
       "  </thead>\n",
       "  <tbody>\n",
       "    <tr>\n",
       "      <th>10</th>\n",
       "      <td>10</td>\n",
       "      <td>2013-03-18 20:04:22-03:00</td>\n",
       "      <td>00:21:07</td>\n",
       "      <td>The Office (U.S.): Season 5: Moroccan Christma...</td>\n",
       "      <td>0</td>\n",
       "      <td>20</td>\n",
       "    </tr>\n",
       "    <tr>\n",
       "      <th>11</th>\n",
       "      <td>11</td>\n",
       "      <td>2013-03-18 19:42:50-03:00</td>\n",
       "      <td>00:21:30</td>\n",
       "      <td>The Office (U.S.): Season 5: The Surplus (Epis...</td>\n",
       "      <td>0</td>\n",
       "      <td>19</td>\n",
       "    </tr>\n",
       "    <tr>\n",
       "      <th>12</th>\n",
       "      <td>12</td>\n",
       "      <td>2013-03-18 19:21:52-03:00</td>\n",
       "      <td>00:20:55</td>\n",
       "      <td>The Office (U.S.): Season 5: Frame Toby (Episo...</td>\n",
       "      <td>0</td>\n",
       "      <td>19</td>\n",
       "    </tr>\n",
       "    <tr>\n",
       "      <th>14</th>\n",
       "      <td>14</td>\n",
       "      <td>2013-03-18 17:29:22-03:00</td>\n",
       "      <td>00:20:15</td>\n",
       "      <td>The Office (U.S.): Season 5: Business Trip (Ep...</td>\n",
       "      <td>0</td>\n",
       "      <td>17</td>\n",
       "    </tr>\n",
       "    <tr>\n",
       "      <th>15</th>\n",
       "      <td>15</td>\n",
       "      <td>2013-03-18 17:07:57-03:00</td>\n",
       "      <td>00:21:21</td>\n",
       "      <td>The Office (U.S.): Season 5: Customer Survey (...</td>\n",
       "      <td>0</td>\n",
       "      <td>17</td>\n",
       "    </tr>\n",
       "  </tbody>\n",
       "</table>\n",
       "</div>"
      ],
      "text/plain": [
       "    index                Start Time Duration  \\\n",
       "10     10 2013-03-18 20:04:22-03:00 00:21:07   \n",
       "11     11 2013-03-18 19:42:50-03:00 00:21:30   \n",
       "12     12 2013-03-18 19:21:52-03:00 00:20:55   \n",
       "14     14 2013-03-18 17:29:22-03:00 00:20:15   \n",
       "15     15 2013-03-18 17:07:57-03:00 00:21:21   \n",
       "\n",
       "                                                Title  weekday  hour  \n",
       "10  The Office (U.S.): Season 5: Moroccan Christma...        0    20  \n",
       "11  The Office (U.S.): Season 5: The Surplus (Epis...        0    19  \n",
       "12  The Office (U.S.): Season 5: Frame Toby (Episo...        0    19  \n",
       "14  The Office (U.S.): Season 5: Business Trip (Ep...        0    17  \n",
       "15  The Office (U.S.): Season 5: Customer Survey (...        0    17  "
      ]
     },
     "execution_count": 33,
     "metadata": {},
     "output_type": "execute_result"
    }
   ],
   "source": [
    "office.head()"
   ]
  },
  {
   "cell_type": "code",
   "execution_count": 40,
   "metadata": {},
   "outputs": [],
   "source": [
    "%matplotlib inline\n",
    "import matplotlib"
   ]
  },
  {
   "cell_type": "code",
   "execution_count": 41,
   "metadata": {},
   "outputs": [],
   "source": [
    "# definir nossa categoria e definir a ordem para que os dias sejam traçados de segunda a domingo\n",
    "office['weekday'] = pd.Categorical(office['weekday'], categories=\n",
    "    [0,1,2,3,4,5,6],\n",
    "    ordered=True)"
   ]
  },
  {
   "cell_type": "code",
   "execution_count": 42,
   "metadata": {},
   "outputs": [],
   "source": [
    "# criar \"office_by_day\" e contar as linhas para cada dia da semana, atribuindo o resultado a essa variável\n",
    "office_by_day = office['weekday'].value_counts()"
   ]
  },
  {
   "cell_type": "code",
   "execution_count": 43,
   "metadata": {},
   "outputs": [],
   "source": [
    "# classificar o índice usando nossas categorias, de modo que segunda-feira (0) seja o primeiro, terça-feira (1) seja o segundo...\n",
    "office_by_day = office_by_day.sort_index()"
   ]
  },
  {
   "cell_type": "code",
   "execution_count": 44,
   "metadata": {},
   "outputs": [],
   "source": [
    "# Aumentamos a fonte\n",
    "matplotlib.rcParams.update({'font.size': 22})"
   ]
  },
  {
   "cell_type": "code",
   "execution_count": 45,
   "metadata": {},
   "outputs": [
    {
     "data": {
      "text/plain": [
       "<AxesSubplot:title={'center':'THE OFFICE: Episódios assistidos por dia'}>"
      ]
     },
     "execution_count": 45,
     "metadata": {},
     "output_type": "execute_result"
    },
    {
     "data": {
      "image/png": "[encoded data removed]",
      "text/plain": [
       "<Figure size 1440x720 with 1 Axes>"
      ]
     },
     "metadata": {
      "needs_background": "light"
     },
     "output_type": "display_data"
    }
   ],
   "source": [
    "# plotar \"office_by_day\" como um gráfico de barras com o tamanho e o título listados\n",
    "office_by_day.plot(kind='bar', figsize=(20,10), title='THE OFFICE: Episódios assistidos por dia')"
   ]
  },
  {
   "cell_type": "code",
   "execution_count": 46,
   "metadata": {},
   "outputs": [],
   "source": [
    "# definimos nossa categoria e definimos a ordem para que as horas sejam plotadas 0-23\n",
    "\n",
    "office['hour'] = pd.Categorical(office['hour'], categories=\n",
    "    [0,1,2,3,4,5,6,7,8,9,10,11,12,13,14,15,16,17,18,19,20,21,22,23],\n",
    "    ordered=True)\n"
   ]
  },
  {
   "cell_type": "code",
   "execution_count": 47,
   "metadata": {},
   "outputs": [],
   "source": [
    "# criamos \"office_by_hour\" e contamos as linhas para cada hora, atribuindo o resultado a essa variável\n",
    "office_by_hour = office['hour'].value_counts()"
   ]
  },
  {
   "cell_type": "code",
   "execution_count": 48,
   "metadata": {},
   "outputs": [],
   "source": [
    "# classificamos o índice usando nossa categoria, de forma que meia-noite (0) seja a primeira, 1h (1) seja a segunda...\n",
    "office_by_hour = office_by_hour.sort_index()"
   ]
  },
  {
   "cell_type": "code",
   "execution_count": 49,
   "metadata": {},
   "outputs": [
    {
     "data": {
      "text/plain": [
       "<AxesSubplot:title={'center':'THE OFFICE: episódios assistidos por hora'}>"
      ]
     },
     "execution_count": 49,
     "metadata": {},
     "output_type": "execute_result"
    },
    {
     "data": {
      "image/png": "[encoded data removed]",
      "text/plain": [
       "<Figure size 1440x720 with 1 Axes>"
      ]
     },
     "metadata": {
      "needs_background": "light"
     },
     "output_type": "display_data"
    }
   ],
   "source": [
    "# plotamos \"office_by_hour\" como um gráfico de barras com o tamanho e título listados\n",
    "office_by_hour.plot(kind='bar', figsize=(20,10), title='THE OFFICE: episódios assistidos por hora')"
   ]
  },
  {
   "cell_type": "code",
   "execution_count": null,
   "metadata": {},
   "outputs": [],
   "source": [
    "This website does not host notebooks, it only renders notebooks available on other websites.\n",
    "\n",
    "Delivered by Fastly, Rendered by OVHcloud\n",
    "\n",
    "nbviewer GitHub repository.\n",
    "\n",
    "nbviewer version: 90c61cc\n",
    "\n",
    "nbconvert version: 5.6.1\n",
    "\n",
    "Rendered a minute ago"
   ]
  },
  {
   "cell_type": "code",
   "execution_count": null,
   "metadata": {},
   "outputs": [],
   "source": []
  }
 ],
 "metadata": {
  "kernelspec": {
   "display_name": "Python 3.8.2 64-bit",
   "language": "python",
   "name": "python38264bitc0bf3c8e18234a8da8ec97720ce6954b"
  },
  "language_info": {
   "codemirror_mode": {
    "name": "ipython",
    "version": 3
   },
   "file_extension": ".py",
   "mimetype": "text/x-python",
   "name": "python",
   "nbconvert_exporter": "python",
   "pygments_lexer": "ipython3",
   "version": "3.8.2"
  }
 },
 "nbformat": 4,
 "nbformat_minor": 4
}
